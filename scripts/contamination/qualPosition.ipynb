{
 "cells": [
  {
   "cell_type": "code",
   "execution_count": null,
   "id": "4356b190",
   "metadata": {
    "vscode": {
     "languageId": "plaintext"
    }
   },
   "outputs": [],
   "source": [
    "import matplotlib.pyplot as plt\n",
    "import numpy as np\n",
    "import pysam\n",
    "from collections import defaultdict\n",
    "\n",
    "# === USER INPUT ===\n",
    "clean_file = \"path/to/clean.sam\"\n",
    "contaminated_file = \"path/to/contaminated.sam\"\n",
    "bin_size = 1_000_000  # bin size in base pairs\n",
    "output_plot = \"mapq_over_position.png\"\n",
    "\n",
    "# === FUNCTION TO PARSE AND BIN MAPQ BY POSITION ===\n",
    "def get_binned_mapq(sam_path, bin_size):\n",
    "    binned_mapq = defaultdict(list)\n",
    "    with pysam.AlignmentFile(sam_path, \"r\") as samfile:\n",
    "        for read in samfile.fetch(until_eof=True):\n",
    "            if not read.is_unmapped:\n",
    "                chrom = read.reference_name\n",
    "                pos = read.reference_start\n",
    "                bin_id = (chrom, pos // bin_size)\n",
    "                binned_mapq[bin_id].append(read.mapping_quality)\n",
    "    return binned_mapq\n",
    "\n",
    "# === FUNCTION TO AVERAGE MAPQ PER BIN ===\n",
    "def average_binned_mapq(binned_mapq):\n",
    "    averaged = {}\n",
    "    for bin_id, values in binned_mapq.items():\n",
    "        averaged[bin_id] = np.mean(values)\n",
    "    return averaged\n",
    "\n",
    "# === PROCESS FILES ===\n",
    "cont_binned = get_binned_mapq(contaminated_file, bin_size)\n",
    "clean_binned = get_binned_mapq(clean_file, bin_size)\n",
    "\n",
    "cont_avg = average_binned_mapq(cont_binned)\n",
    "clean_avg = average_binned_mapq(clean_binned)\n",
    "\n",
    "# === MERGE AND SORT BIN POSITIONS ===\n",
    "all_bins = sorted(set(cont_avg.keys()).union(clean_avg.keys()), key=lambda x: (x[0], x[1]))\n",
    "x_labels = [f\"{chrom}:{bin_id*bin_size//1_000_000}Mb\" for chrom, bin_id in all_bins]\n",
    "x_indices = np.arange(len(all_bins))\n",
    "\n",
    "# === EXTRACT PLOT DATA ===\n",
    "cont_values = [cont_avg.get(bin_id, np.nan) for bin_id in all_bins]\n",
    "clean_values = [clean_avg.get(bin_id, np.nan) for bin_id in all_bins]\n",
    "\n",
    "# === PLOT ===\n",
    "plt.figure(figsize=(15, 6))\n",
    "plt.plot(x_indices, cont_values, label=\"Contaminated\", color=\"orange\")\n",
    "plt.plot(x_indices, clean_values, label=\"Clean\", color=\"blue\")\n",
    "plt.xticks(x_indices[::max(len(x_indices)//10,1)], x_labels[::max(len(x_labels)//10,1)], rotation=45)\n",
    "plt.ylabel(\"Mean MAPQ per 1Mb bin\")\n",
    "plt.xlabel(\"Genomic Position (binned)\")\n",
    "plt.title(\"Mapping Quality over Genomic Position\")\n",
    "plt.legend()\n",
    "plt.tight_layout()\n",
    "plt.savefig(output_plot, dpi=300)\n",
    "plt.close()\n",
    "\n",
    "print(f\"Plot saved as {output_plot}\")"
   ]
  }
 ],
 "metadata": {
  "language_info": {
   "name": "python"
  }
 },
 "nbformat": 4,
 "nbformat_minor": 5
}
